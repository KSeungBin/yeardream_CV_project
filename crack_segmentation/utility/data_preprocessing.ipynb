{
 "cells": [
  {
   "cell_type": "code",
   "execution_count": null,
   "metadata": {},
   "outputs": [],
   "source": [
    "import os\n",
    "import splitfolders\n",
    "import shutil\n",
    "from PIL import Image\n",
    "import cv2\n",
    "import matplotlib.pyplot as plt\n",
    "import natsort"
   ]
  },
  {
   "cell_type": "code",
   "execution_count": null,
   "metadata": {},
   "outputs": [],
   "source": [
    "image_path = \"../Datasets/Train/images/\"\n",
    "mask_path = \"../Datasets/Train/masks/\"\n",
    "\n",
    "image_list = os.listdir(image_path)\n",
    "mask_list = os.listdir(mask_path)\n",
    "\n",
    "image_list = natsort.natsorted(image_list)\n",
    "mask_list = natsort.natsorted(mask_list)\n",
    "\n",
    "print(len(image_list), len(mask_list))"
   ]
  },
  {
   "cell_type": "code",
   "execution_count": null,
   "metadata": {},
   "outputs": [],
   "source": [
    "idx = -4\n",
    "print(image_list[idx])\n",
    "print(mask_list[idx])"
   ]
  },
  {
   "cell_type": "code",
   "execution_count": null,
   "metadata": {},
   "outputs": [],
   "source": [
    "# remove \"_label\", \"_mask\"\n",
    "\n",
    "for file in mask_list:\n",
    "    img = cv2.imread(mask_path + file)\n",
    "    \n",
    "    name = file.split(\".\")[0]\n",
    "    if name.endswith(\"_mask\"):\n",
    "        os.remove(mask_path + file)\n",
    "        cv2.imwrite(mask_path + name.split(\"_mask\")[0] + \".png\", img)\n",
    "        \n",
    "    elif name.endswith(\"_label\"):\n",
    "        os.remove(mask_path + file)\n",
    "        cv2.imwrite(mask_path + name.split(\"_label\")[0] + \".png\", img)"
   ]
  },
  {
   "cell_type": "code",
   "execution_count": null,
   "metadata": {},
   "outputs": [],
   "source": [
    "# JPG to jpg\n",
    "for file in image_list:\n",
    "    if file.endswith(\".JPG\"):\n",
    "        print(file)\n",
    "# PNG to png\n",
    "for file in mask_list:\n",
    "    if file.endswith(\".PNG\"):\n",
    "        img = cv2.imread(mask_path + file)\n",
    "        os.remove(mask_path + file)\n",
    "        cv2.imwrite(mask_path + file.split(\".\")[0]+\".png\",img)"
   ]
  },
  {
   "cell_type": "code",
   "execution_count": null,
   "metadata": {},
   "outputs": [],
   "source": [
    "# rotate and delete\n",
    "jpg_lst = (\".jpg\",\".JPG\")\n",
    "png_lst = (\".png\", \".PNG\")\n",
    "txt_lst = (\".txt\", \".TXT\")\n",
    "\n",
    "for file in mask_list:\n",
    "    img = cv2.imread(mask_path+file)\n",
    "    h,w,c = img.shape\n",
    "    \n",
    "    if file.endswith(png_lst):\n",
    "        if h == 2560:\n",
    "            new_img = cv2.rotate(img, cv2.ROTATE_90_COUNTERCLOCKWISE)\n",
    "            os.remove(mask_path+file)\n",
    "            cv2.imwrite(mask_path+file, new_img)\n",
    "        elif h!= 2560 and h!= 1440:\n",
    "            os.remove(mask_path+file)\n",
    "            print(f'{file} removed')"
   ]
  },
  {
   "cell_type": "code",
   "execution_count": null,
   "metadata": {},
   "outputs": [],
   "source": [
    "# image rename\n",
    "cnt = 1\n",
    "for file in image_list:\n",
    "    img = cv2.imread(image_path + file)\n",
    "    os.remove(image_path + file)\n",
    "    cv2.imwrite(image_path + str(cnt) + \".jpg\", img)\n",
    "    cnt += 1"
   ]
  },
  {
   "cell_type": "code",
   "execution_count": null,
   "metadata": {},
   "outputs": [],
   "source": [
    "# mask rename\n",
    "cnt = 1\n",
    "for file in mask_list:\n",
    "    img = cv2.imread(mask_path + file)\n",
    "    os.remove(mask_path + file)\n",
    "    cv2.imwrite(mask_path + str(cnt) + \"_mask.png\", img)\n",
    "    cnt += 1"
   ]
  },
  {
   "cell_type": "code",
   "execution_count": null,
   "metadata": {},
   "outputs": [],
   "source": [
    "# check\n",
    "image_path = \"../Datasets/Train/images/\"\n",
    "mask_path = \"../Datasets/Train/masks/\"\n",
    "\n",
    "image_list = os.listdir(image_path)\n",
    "mask_list = os.listdir(mask_path)\n",
    "\n",
    "# image_list = natsort.natsorted(image_list)\n",
    "# mask_list = natsort.natsorted(mask_list)\n",
    "\n",
    "idx = 25\n",
    "print(image_list[idx])\n",
    "print(mask_list[idx])"
   ]
  }
 ],
 "metadata": {
  "kernelspec": {
   "display_name": "Python 3.9.10 ('base')",
   "language": "python",
   "name": "python3"
  },
  "language_info": {
   "name": "python",
   "version": "3.9.10"
  },
  "orig_nbformat": 4,
  "vscode": {
   "interpreter": {
    "hash": "900057b023b5ce44058c8c58dc34b5b442c7c12c681212cd6c3341775c6bcb10"
   }
  }
 },
 "nbformat": 4,
 "nbformat_minor": 2
}
